{
 "cells": [
  {
   "cell_type": "markdown",
   "metadata": {},
   "source": [
    "app.py is a Flask app which exposes a model as an endpoint. To run theapp and expose over a network: \n",
    "\n",
    " $ flask run --host 0.0.0.0\n",
    "\n",
    "Then use curl to query:\n",
    "\n",
    " curl -X POST -F image=@dog.jpg 'http://localhost:5000/predict'\n",
    " \n",
    "Check which model we are using - it is the face counting model using in the [object detection example](https://coral.withgoogle.com/docs/edgetpu/api-intro/)"
   ]
  },
  {
   "cell_type": "code",
   "execution_count": 1,
   "metadata": {},
   "outputs": [
    {
     "data": {
      "text/plain": [
       "'/home/robin/Downloads/mobilenet_ssd_v2_face_quant_postprocess_edgetpu.tflite'"
      ]
     },
     "execution_count": 1,
     "metadata": {},
     "output_type": "execute_result"
    }
   ],
   "source": [
    "from app import MODEL\n",
    "MODEL"
   ]
  },
  {
   "cell_type": "code",
   "execution_count": 2,
   "metadata": {},
   "outputs": [
    {
     "name": "stdout",
     "output_type": "stream",
     "text": [
      "{\"0\":\"0.99609375\",\"1\":\"0.99609375\",\"2\":\"0.83203125\",\"3\":\"0.5\",\"success\":true}\n"
     ]
    }
   ],
   "source": [
    "!curl -X POST -F image=@face.jpg 'http://localhost:5000/predict'"
   ]
  },
  {
   "cell_type": "markdown",
   "metadata": {},
   "source": [
    "Alternatively we can use requests"
   ]
  },
  {
   "cell_type": "code",
   "execution_count": 3,
   "metadata": {},
   "outputs": [],
   "source": [
    "import requests\n",
    "\n",
    "PREDICT_URL = 'http://localhost:5000/predict'\n",
    "IMAGE_PATH = \"face.jpg\"\n",
    "\n",
    "# load the input image and construct the payload for the request\n",
    "image = open(IMAGE_PATH, \"rb\").read()\n",
    "payload = {\"image\": image}"
   ]
  },
  {
   "cell_type": "code",
   "execution_count": 4,
   "metadata": {},
   "outputs": [
    {
     "name": "stdout",
     "output_type": "stream",
     "text": [
      "CPU times: user 4.09 ms, sys: 4.04 ms, total: 8.13 ms\n",
      "Wall time: 54.7 ms\n"
     ]
    }
   ],
   "source": [
    "%%time\n",
    "# submit the request\n",
    "response = requests.post(PREDICT_URL, files=payload)"
   ]
  },
  {
   "cell_type": "code",
   "execution_count": 5,
   "metadata": {},
   "outputs": [
    {
     "data": {
      "text/plain": [
       "200"
      ]
     },
     "execution_count": 5,
     "metadata": {},
     "output_type": "execute_result"
    }
   ],
   "source": [
    "response.status_code"
   ]
  },
  {
   "cell_type": "code",
   "execution_count": 6,
   "metadata": {},
   "outputs": [
    {
     "data": {
      "text/plain": [
       "{'0': '0.99609375',\n",
       " '1': '0.99609375',\n",
       " '2': '0.83203125',\n",
       " '3': '0.5',\n",
       " 'success': True}"
      ]
     },
     "execution_count": 6,
     "metadata": {},
     "output_type": "execute_result"
    }
   ],
   "source": [
    "response.json()"
   ]
  },
  {
   "cell_type": "markdown",
   "metadata": {},
   "source": [
    "To do: expand the api to return bounding boxes. Also implement the general object detection model"
   ]
  },
  {
   "cell_type": "code",
   "execution_count": null,
   "metadata": {},
   "outputs": [],
   "source": []
  }
 ],
 "metadata": {
  "kernelspec": {
   "display_name": "Python 3",
   "language": "python",
   "name": "python3"
  },
  "language_info": {
   "codemirror_mode": {
    "name": "ipython",
    "version": 3
   },
   "file_extension": ".py",
   "mimetype": "text/x-python",
   "name": "python",
   "nbconvert_exporter": "python",
   "pygments_lexer": "ipython3",
   "version": "3.7.1"
  }
 },
 "nbformat": 4,
 "nbformat_minor": 2
}
